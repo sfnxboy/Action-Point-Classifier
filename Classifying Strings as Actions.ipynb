{
 "cells": [
  {
   "cell_type": "markdown",
   "metadata": {},
   "source": [
    "# Classifying strings by tense, subject and time objects\n",
    "## By Amir ElTabakh\n",
    "## February 13, 2022\n",
    "\n",
    "[Link to Upwork Proposal](https://www.upwork.com/ab/proposals/1490854526188195841)\n",
    "\n",
    "In this document I create a machine learning model using  NLP techniques to classify strings based on tense (past, present, future).\n",
    "\n",
    "I will be using the The Natural Language Toolkit (NLTK) library to capture the different parts of speech in each sentence/string, and then I will score the sentence with respect to the tense. There are many parts of speech, but below is a guide to the grammer that is relevant."
   ]
  },
  {
   "cell_type": "code",
   "execution_count": 1,
   "metadata": {},
   "outputs": [],
   "source": [
    "grammar = r\"\"\"\n",
    "Future_Perfect_Continuous: {<MD><VB><VBN><VBG>}\n",
    "Future_Continuous:         {<MD><VB><VBG>}\n",
    "Future_Perfect:            {<MD><VB><VBN>}\n",
    "Past_Perfect_Continuous:   {<VBD><VBN><VBG>}\n",
    "Present_Perfect_Continuous:{<VBP|VBZ><VBN><VBG>}\n",
    "Future_Indefinite:         {<MD><VB>}\n",
    "Past_Continuous:           {<VBD><VBG>}\n",
    "Past_Perfect:              {<VBD><VBN>}\n",
    "Present_Continuous:        {<VBZ|VBP><VBG>}\n",
    "Present_Perfect:           {<VBZ|VBP><VBN>}\n",
    "Past_Indefinite:           {<VBD>}\n",
    "Present_Indefinite:        {<VBZ>|<VBP>}\n",
    "\"\"\""
   ]
  },
  {
   "cell_type": "code",
   "execution_count": 2,
   "metadata": {},
   "outputs": [
    {
     "data": {
      "text/plain": [
       "[('I', 'PRP'),\n",
       " ('will', 'MD'),\n",
       " ('do', 'VB'),\n",
       " ('my', 'PRP$'),\n",
       " ('homework', 'NN'),\n",
       " ('tomorrow', 'NN'),\n",
       " ('.', '.')]"
      ]
     },
     "execution_count": 2,
     "metadata": {},
     "output_type": "execute_result"
    }
   ],
   "source": [
    "from nltk import word_tokenize, pos_tag\n",
    "text = \"I will do my homework tomorrow.\" \n",
    "\n",
    "tokenized = word_tokenize(text)\n",
    "tagged = pos_tag(tokenized)\n",
    "tagged"
   ]
  },
  {
   "cell_type": "code",
   "execution_count": 3,
   "metadata": {},
   "outputs": [],
   "source": [
    "from nltk import word_tokenize, pos_tag\n",
    "\n",
    "def determine_tense_input(sentence):\n",
    "    text = word_tokenize(sentence)\n",
    "    tagged = pos_tag(text)\n",
    "\n",
    "    tense = {}\n",
    "    tense[\"future\"] = len([word for word in tagged if word[1] in [\"MD\", \"VBF\", \"VBC\", \"VB\", \"VBN\"]])\n",
    "    tense[\"present\"] = len([word for word in tagged if word[1] in [\"VBP\", \"VBZ\",\"VBG\"]])\n",
    "    tense[\"past\"] = len([word for word in tagged if word[1] in [\"VBD\", \"VBN\"]]) \n",
    "    return(tense)"
   ]
  },
  {
   "cell_type": "code",
   "execution_count": 7,
   "metadata": {},
   "outputs": [
    {
     "name": "stdout",
     "output_type": "stream",
     "text": [
      "{'future': 1, 'present': 0, 'past': 1}\n",
      "[('did', 'VBD'), ('you', 'PRP'), ('get', 'VB'), ('my', 'PRP$'), ('email', 'NN'), ('?', '.')]\n"
     ]
    }
   ],
   "source": [
    "text = \"did you get my email?\" \n",
    "print(determine_tense_input(text))\n",
    "text = word_tokenize(text)\n",
    "tagged = pos_tag(text)\n",
    "print(tagged)"
   ]
  },
  {
   "cell_type": "code",
   "execution_count": 5,
   "metadata": {},
   "outputs": [
    {
     "data": {
      "text/plain": [
       "{'future': 0, 'present': 2, 'past': 0}"
      ]
     },
     "execution_count": 5,
     "metadata": {},
     "output_type": "execute_result"
    }
   ],
   "source": [
    "text = \"Hello, how are you doing?\"\n",
    "determine_tense_input(text)"
   ]
  },
  {
   "cell_type": "code",
   "execution_count": 6,
   "metadata": {},
   "outputs": [
    {
     "data": {
      "text/plain": [
       "{'future': 0, 'present': 2, 'past': 0}"
      ]
     },
     "execution_count": 6,
     "metadata": {},
     "output_type": "execute_result"
    }
   ],
   "source": [
    "text = \"I am currently programming in Python.\" \n",
    "determine_tense_input(text)"
   ]
  },
  {
   "cell_type": "code",
   "execution_count": 7,
   "metadata": {},
   "outputs": [
    {
     "data": {
      "text/plain": [
       "{'future': 2, 'present': 1, 'past': 0}"
      ]
     },
     "execution_count": 7,
     "metadata": {},
     "output_type": "execute_result"
    }
   ],
   "source": [
    "text = \"Tomorrow I will be programming in Python.\"\n",
    "determine_tense_input(text)"
   ]
  },
  {
   "cell_type": "code",
   "execution_count": 8,
   "metadata": {},
   "outputs": [
    {
     "data": {
      "text/plain": [
       "'future'"
      ]
     },
     "execution_count": 8,
     "metadata": {},
     "output_type": "execute_result"
    }
   ],
   "source": [
    "# determine the tense of the string\n",
    "text = \"We will attend the meeting in one hour.\" \n",
    "max(determine_tense_input(text), key=determine_tense_input(text).get)"
   ]
  },
  {
   "cell_type": "markdown",
   "metadata": {},
   "source": [
    "## Identifying the Subject\n",
    "\n",
    "The function below will return the counts of the subjects."
   ]
  },
  {
   "cell_type": "code",
   "execution_count": 9,
   "metadata": {},
   "outputs": [],
   "source": [
    "# function to determine count of subjects\n",
    "\n",
    "def determine_subject_input(sentence):\n",
    "    text = word_tokenize(sentence)\n",
    "    tagged = pos_tag(text)\n",
    "\n",
    "    subject = {}\n",
    "    subject[\"Count\"] = len([word for word in tagged if word[1] in [\"PRP\", \"NNP\", \"NNS\"]])  \n",
    "    return(subject)"
   ]
  },
  {
   "cell_type": "code",
   "execution_count": 10,
   "metadata": {},
   "outputs": [
    {
     "data": {
      "text/plain": [
       "{'Count': 1}"
      ]
     },
     "execution_count": 10,
     "metadata": {},
     "output_type": "execute_result"
    }
   ],
   "source": [
    "text = \"We will attend the meeting in one hour.\" \n",
    "determine_subject_input(text)"
   ]
  },
  {
   "cell_type": "code",
   "execution_count": 11,
   "metadata": {},
   "outputs": [
    {
     "data": {
      "text/plain": [
       "{'Count': 0}"
      ]
     },
     "execution_count": 11,
     "metadata": {},
     "output_type": "execute_result"
    }
   ],
   "source": [
    "text = \"Tomorrow the homework will be complete.\" \n",
    "determine_subject_input(text)"
   ]
  },
  {
   "cell_type": "markdown",
   "metadata": {},
   "source": [
    "## Identifying Time related objects in string"
   ]
  },
  {
   "cell_type": "code",
   "execution_count": 8,
   "metadata": {},
   "outputs": [],
   "source": [
    "# function to determine count of time-related topics\n",
    "\n",
    "def determine_time_input(sentence):\n",
    "    text = word_tokenize(sentence)\n",
    "    tagged = pos_tag(text)\n",
    "\n",
    "    time_count = len([word for word in tagged if word[1] in [\"NNP\", \"CD\"]])  \n",
    "    return(time_count)"
   ]
  },
  {
   "cell_type": "code",
   "execution_count": 13,
   "metadata": {},
   "outputs": [
    {
     "name": "stdout",
     "output_type": "stream",
     "text": [
      "[('So', 'RB'), (',', ','), ('and', 'CC'), ('given', 'VBN'), ('the', 'DT'), ('complete', 'JJ'), ('scenario', 'NN'), (',', ','), ('this', 'DT'), ('is', 'VBZ'), ('what', 'WP'), ('we', 'PRP'), (\"'ll\", 'MD'), ('be', 'VB'), ('doing', 'VBG'), ('for', 'IN'), ('one', 'CD'), ('of', 'IN'), ('the', 'DT'), ('biggest', 'JJS'), ('financial', 'JJ'), ('industry', 'NN'), ('.', '.')]\n"
     ]
    }
   ],
   "source": [
    "sentence = \"So, and given the complete scenario, this is what we'll be doing for one of the biggest financial industry.\"\n",
    "text = word_tokenize(sentence)\n",
    "print(pos_tag(text))\n"
   ]
  },
  {
   "cell_type": "code",
   "execution_count": 9,
   "metadata": {},
   "outputs": [
    {
     "name": "stdout",
     "output_type": "stream",
     "text": [
      "1\n",
      "[('Did', 'NNP'), ('you', 'PRP'), ('get', 'VB'), ('my', 'PRP$'), ('email', 'NN'), ('?', '.')]\n"
     ]
    }
   ],
   "source": [
    "text = \"Did you get my email?\"\n",
    "print(determine_time_input(text))\n",
    "print(pos_tag(word_tokenize(text)))"
   ]
  },
  {
   "cell_type": "code",
   "execution_count": 15,
   "metadata": {},
   "outputs": [
    {
     "name": "stdout",
     "output_type": "stream",
     "text": [
      "0\n",
      "[('I', 'PRP'), ('will', 'MD'), ('submit', 'VB'), ('the', 'DT'), ('work', 'NN')]\n"
     ]
    }
   ],
   "source": [
    "text = \"I will submit the work\"\n",
    "print(determine_time_input(text))\n",
    "print(pos_tag(word_tokenize(text)))"
   ]
  },
  {
   "cell_type": "code",
   "execution_count": 16,
   "metadata": {},
   "outputs": [
    {
     "name": "stdout",
     "output_type": "stream",
     "text": [
      "0\n",
      "[('I', 'PRP'), ('want', 'VBP'), ('you', 'PRP'), ('to', 'TO'), ('complete', 'VB'), ('the', 'DT'), ('task', 'NN'), ('.', '.')]\n"
     ]
    }
   ],
   "source": [
    "text = \"I want you to complete the task.\"\n",
    "print(determine_time_input(text))\n",
    "print(pos_tag(word_tokenize(text)))"
   ]
  },
  {
   "cell_type": "code",
   "execution_count": 17,
   "metadata": {},
   "outputs": [
    {
     "name": "stdout",
     "output_type": "stream",
     "text": [
      "1\n",
      "[('I', 'PRP'), ('want', 'VBP'), ('you', 'PRP'), ('to', 'TO'), ('complete', 'VB'), ('the', 'DT'), ('task', 'NN'), ('by', 'IN'), ('Wednesday', 'NNP'), ('.', '.')]\n"
     ]
    }
   ],
   "source": [
    "text = \"I want you to complete the task by Wednesday.\"\n",
    "print(determine_time_input(text))\n",
    "print(pos_tag(word_tokenize(text)))"
   ]
  },
  {
   "cell_type": "code",
   "execution_count": 18,
   "metadata": {},
   "outputs": [
    {
     "name": "stdout",
     "output_type": "stream",
     "text": [
      "0\n",
      "[('I', 'PRP'), ('want', 'VBP'), ('you', 'PRP'), ('to', 'TO'), ('complete', 'VB'), ('the', 'DT'), ('task', 'NN'), ('as', 'RB'), ('soon', 'RB'), ('as', 'IN'), ('possible', 'JJ'), ('.', '.')]\n"
     ]
    }
   ],
   "source": [
    "text = \"I want you to complete the task as soon as possible.\"\n",
    "print(determine_time_input(text))\n",
    "print(pos_tag(word_tokenize(text)))"
   ]
  },
  {
   "cell_type": "markdown",
   "metadata": {},
   "source": [
    "## Identifying date and time objects in string using datefinder"
   ]
  },
  {
   "cell_type": "code",
   "execution_count": null,
   "metadata": {},
   "outputs": [],
   "source": [
    "import datefinder\n",
    "\n",
    "text = \"I will do the assignment Sunday.\"\n",
    "\n",
    "matches = datefinder.find_dates(text)\n",
    "\n",
    "for match in matches:"
   ]
  },
  {
   "cell_type": "code",
   "execution_count": 49,
   "metadata": {},
   "outputs": [],
   "source": [
    "def determine_datefinder_input(sentence):\n",
    "    matches = datefinder.find_dates(sentence)\n",
    "\n",
    "    date_time_count = len(matches)  \n",
    "    return(date_time_count)"
   ]
  },
  {
   "cell_type": "code",
   "execution_count": 60,
   "metadata": {},
   "outputs": [
    {
     "name": "stdout",
     "output_type": "stream",
     "text": [
      "2022-02-22 19:00:00\n"
     ]
    }
   ],
   "source": [
    "text = \"Will meet to discuss the plans for Tuesday at 7 PM.\"\n",
    "\n",
    "matches = datefinder.find_dates(text)\n",
    "\n",
    "for match in matches:\n",
    "    print(match)\n",
    "\n",
    "#determine_datefinder_input(text)"
   ]
  },
  {
   "cell_type": "markdown",
   "metadata": {},
   "source": [
    "## All together,\n",
    "\n",
    "Below is one function. The ffunction will identify the tense, count of subjects, and count of objects, and the function will filter the dataframe for the following:\n",
    "\n",
    "- Tense is Future\n",
    "- Count of subjects > 0\n",
    "- Count of time objects > 0\n",
    "\n",
    "If you want to filter the dataframe set the `filter_string` parameter to True (default is True). If you do not wish to filter the dataframe set it to false."
   ]
  },
  {
   "cell_type": "code",
   "execution_count": 19,
   "metadata": {
    "scrolled": true
   },
   "outputs": [
    {
     "data": {
      "text/html": [
       "<div>\n",
       "<style scoped>\n",
       "    .dataframe tbody tr th:only-of-type {\n",
       "        vertical-align: middle;\n",
       "    }\n",
       "\n",
       "    .dataframe tbody tr th {\n",
       "        vertical-align: top;\n",
       "    }\n",
       "\n",
       "    .dataframe thead th {\n",
       "        text-align: right;\n",
       "    }\n",
       "</style>\n",
       "<table border=\"1\" class=\"dataframe\">\n",
       "  <thead>\n",
       "    <tr style=\"text-align: right;\">\n",
       "      <th></th>\n",
       "      <th>text</th>\n",
       "    </tr>\n",
       "  </thead>\n",
       "  <tbody>\n",
       "    <tr>\n",
       "      <th>0</th>\n",
       "      <td>So, and given the complete scenario, this is w...</td>\n",
       "    </tr>\n",
       "    <tr>\n",
       "      <th>1</th>\n",
       "      <td>I will close the window.</td>\n",
       "    </tr>\n",
       "    <tr>\n",
       "      <th>2</th>\n",
       "      <td>We will attend the meeting in one hour.</td>\n",
       "    </tr>\n",
       "    <tr>\n",
       "      <th>3</th>\n",
       "      <td>I did the assignment yesterday.</td>\n",
       "    </tr>\n",
       "    <tr>\n",
       "      <th>4</th>\n",
       "      <td>I walked the dog in the morning.</td>\n",
       "    </tr>\n",
       "    <tr>\n",
       "      <th>5</th>\n",
       "      <td>My cat is stepping on the keyboard.</td>\n",
       "    </tr>\n",
       "    <tr>\n",
       "      <th>6</th>\n",
       "      <td>Could you repeat that?</td>\n",
       "    </tr>\n",
       "    <tr>\n",
       "      <th>7</th>\n",
       "      <td>Would you like to get food with me tomorrow?</td>\n",
       "    </tr>\n",
       "    <tr>\n",
       "      <th>8</th>\n",
       "      <td>can you submit the code.</td>\n",
       "    </tr>\n",
       "    <tr>\n",
       "      <th>9</th>\n",
       "      <td>can you submit the code by tomorrow.</td>\n",
       "    </tr>\n",
       "    <tr>\n",
       "      <th>10</th>\n",
       "      <td>I will inform tomorrow.</td>\n",
       "    </tr>\n",
       "    <tr>\n",
       "      <th>11</th>\n",
       "      <td>I will inform.</td>\n",
       "    </tr>\n",
       "    <tr>\n",
       "      <th>12</th>\n",
       "      <td>I want you to complete the task as soon as pos...</td>\n",
       "    </tr>\n",
       "    <tr>\n",
       "      <th>13</th>\n",
       "      <td>I want you to complete the task.</td>\n",
       "    </tr>\n",
       "    <tr>\n",
       "      <th>14</th>\n",
       "      <td>I want you to complete the task by Wednesday.</td>\n",
       "    </tr>\n",
       "    <tr>\n",
       "      <th>15</th>\n",
       "      <td>Hello, how are you doing?</td>\n",
       "    </tr>\n",
       "    <tr>\n",
       "      <th>16</th>\n",
       "      <td>I am fine, thank you!</td>\n",
       "    </tr>\n",
       "    <tr>\n",
       "      <th>17</th>\n",
       "      <td>No matter the industry your business is in, an...</td>\n",
       "    </tr>\n",
       "    <tr>\n",
       "      <th>18</th>\n",
       "      <td>You need to know what your customer is saying,...</td>\n",
       "    </tr>\n",
       "    <tr>\n",
       "      <th>19</th>\n",
       "      <td>You will need to know what your customer is sa...</td>\n",
       "    </tr>\n",
       "    <tr>\n",
       "      <th>20</th>\n",
       "      <td>Then, see if you can take the customer story a...</td>\n",
       "    </tr>\n",
       "    <tr>\n",
       "      <th>21</th>\n",
       "      <td>It’s not always smooth sailing, and sometimes ...</td>\n",
       "    </tr>\n",
       "    <tr>\n",
       "      <th>22</th>\n",
       "      <td>When new products are being announced, release...</td>\n",
       "    </tr>\n",
       "    <tr>\n",
       "      <th>23</th>\n",
       "      <td>When you announce new products next week, be s...</td>\n",
       "    </tr>\n",
       "    <tr>\n",
       "      <th>24</th>\n",
       "      <td>Be sure you submit the work at 10:30 PM.</td>\n",
       "    </tr>\n",
       "    <tr>\n",
       "      <th>25</th>\n",
       "      <td>Amir can you submit the work.</td>\n",
       "    </tr>\n",
       "    <tr>\n",
       "      <th>26</th>\n",
       "      <td>Amir can you submit the work tomorrow.</td>\n",
       "    </tr>\n",
       "  </tbody>\n",
       "</table>\n",
       "</div>"
      ],
      "text/plain": [
       "                                                 text\n",
       "0   So, and given the complete scenario, this is w...\n",
       "1                            I will close the window.\n",
       "2             We will attend the meeting in one hour.\n",
       "3                     I did the assignment yesterday.\n",
       "4                    I walked the dog in the morning.\n",
       "5                 My cat is stepping on the keyboard.\n",
       "6                              Could you repeat that?\n",
       "7        Would you like to get food with me tomorrow?\n",
       "8                            can you submit the code.\n",
       "9                can you submit the code by tomorrow.\n",
       "10                            I will inform tomorrow.\n",
       "11                                     I will inform.\n",
       "12  I want you to complete the task as soon as pos...\n",
       "13                   I want you to complete the task.\n",
       "14      I want you to complete the task by Wednesday.\n",
       "15                          Hello, how are you doing?\n",
       "16                              I am fine, thank you!\n",
       "17  No matter the industry your business is in, an...\n",
       "18  You need to know what your customer is saying,...\n",
       "19  You will need to know what your customer is sa...\n",
       "20  Then, see if you can take the customer story a...\n",
       "21  It’s not always smooth sailing, and sometimes ...\n",
       "22  When new products are being announced, release...\n",
       "23  When you announce new products next week, be s...\n",
       "24           Be sure you submit the work at 10:30 PM.\n",
       "25                      Amir can you submit the work.\n",
       "26             Amir can you submit the work tomorrow."
      ]
     },
     "execution_count": 19,
     "metadata": {},
     "output_type": "execute_result"
    }
   ],
   "source": [
    "# generating mock dataset\n",
    "import pandas as pd\n",
    "\n",
    "list_of_strings = [\"So, and given the complete scenario, this is what we'll be doing for one of the biggest financial industry.\",\n",
    "                   'I will close the window.',\n",
    "                   'We will attend the meeting in one hour.',\n",
    "                   'I did the assignment yesterday.',\n",
    "                   'I walked the dog in the morning.',\n",
    "                   'My cat is stepping on the keyboard.',\n",
    "                   'Could you repeat that?',\n",
    "                   'Would you like to get food with me tomorrow?',\n",
    "                   'can you submit the code.',\n",
    "                   'can you submit the code by tomorrow.',\n",
    "                   'I will inform tomorrow.',\n",
    "                   'I will inform.',\n",
    "                   'I want you to complete the task as soon as possible.',\n",
    "                   'I want you to complete the task.',\n",
    "                   'I want you to complete the task by Wednesday.',\n",
    "                   'Hello, how are you doing?',\n",
    "                   'I am fine, thank you!',\n",
    "                   'No matter the industry your business is in, an important team meeting topic is customer stories – whether good or bad.',\n",
    "                   'You need to know what your customer is saying, listen to any recent reviews a customer has left, or read an email from a customer out loud to the team.',\n",
    "                   'You will need to know what your customer is saying, listen to any recent reviews a customer has left, or read an email from a customer out loud to the team.',\n",
    "                   'Then, see if you can take the customer story and turn it into ways to improve or anything that may need to be changed in the future.',\n",
    "                   'It’s not always smooth sailing, and sometimes the team will run into a roadblock, challenge, or bottleneck.',\n",
    "                   'When new products are being announced, released, or if they’re still in progress, this is a great topic of discussion for a meeting.',\n",
    "                   'When you announce new products next week, be sure to talk about it because this is a great topic of discussion for a meeting.',\n",
    "                   'Be sure you submit the work at 10:30 PM.',\n",
    "                   'Amir can you submit the work.',\n",
    "                   'Amir can you submit the work tomorrow.']\n",
    "\n",
    "df_test = pd.DataFrame({'text': list_of_strings})\n",
    "\n",
    "df_test"
   ]
  },
  {
   "cell_type": "code",
   "execution_count": 20,
   "metadata": {
    "scrolled": true
   },
   "outputs": [],
   "source": [
    "# pip install dependencies\n",
    "#!pip install pandas\n",
    "#!pip install nltk"
   ]
  },
  {
   "cell_type": "code",
   "execution_count": 21,
   "metadata": {},
   "outputs": [],
   "source": [
    "# import csv\n",
    "\n",
    "#df = pd.read_csv(r\"C:/...\")\n",
    "\n",
    "#df.head()"
   ]
  },
  {
   "cell_type": "code",
   "execution_count": 22,
   "metadata": {},
   "outputs": [],
   "source": [
    "from nltk import word_tokenize, pos_tag\n",
    "\n",
    "# determine tense counts of string\n",
    "def determine_tense_input(sentence):\n",
    "    text = word_tokenize(sentence)\n",
    "    tagged = pos_tag(text)\n",
    "\n",
    "    tense = {}\n",
    "    tense[\"future\"] = len([word for word in tagged if word[1] in [\"MD\", \"VBF\", \"VBC\", \"VB\", \"VBN\"]])\n",
    "    tense[\"present\"] = len([word for word in tagged if word[1] in [\"VBP\", \"VBZ\",\"VBG\"]])\n",
    "    tense[\"past\"] = len([word for word in tagged if word[1] in [\"VBD\", \"VBN\"]]) \n",
    "    return(tense)\n",
    "\n",
    "# get count of time objects\n",
    "def determine_time_input(sentence):\n",
    "    text = word_tokenize(sentence)\n",
    "    tagged = pos_tag(text)\n",
    "\n",
    "    time_count = len([word for word in tagged if word[1] in [\"NNP\", \"CD\"]])  \n",
    "    return(time_count)\n",
    "\n",
    "# get count of subject objects\n",
    "def determine_subject_input(sentence):\n",
    "    text = word_tokenize(sentence)\n",
    "    tagged = pos_tag(text)\n",
    "\n",
    "    subject_count = len([word for word in tagged if word[1] in [\"PRP\", \"NNP\", \"NNS\"]])  \n",
    "    return(subject_count)\n",
    "\n",
    "\n",
    "def get_action_strings(df, text_col_name, filter_strings = True):\n",
    "    \"\"\"\n",
    "    This function takes two arguments as input:\n",
    "    - df: Your dataframe containing a column of strings\n",
    "    - text_col_name: The name of the column that contains the strings\n",
    "    - filter_strings: True or False, if True it will filter the dataframe for the following:\n",
    "    -- Tense == 'future'\n",
    "    -- subject_count > 0\n",
    "    -- time_object_count > 0 \n",
    "    \n",
    "    This function will update the dataframe with three new columns:\n",
    "    - tense: Past/Present/Future\n",
    "    - subject_count: Number of subjects present in string\n",
    "    - time_object_count: Number of time related objects in string\n",
    "\n",
    "    \"\"\"\n",
    "    \n",
    "    # lists to store tense's, count of subjects, and count of time-objects\n",
    "    tense_col = []\n",
    "    subject_count = []\n",
    "    time_object_count = []\n",
    "    \n",
    "    # process the df\n",
    "    df_list = list(df[text_col_name])\n",
    "\n",
    "    \n",
    "    for i in range(len(df)):\n",
    "        text = df_list[i]\n",
    "        \n",
    "        # Tense\n",
    "        tagged = pos_tag(text)\n",
    "\n",
    "        tense = {}\n",
    "        tense[\"future\"] = len([word for word in tagged if word[1] in [\"MD\", \"VBF\", \"VBC\", \"VB\", \"VBN\"]])\n",
    "        tense[\"present\"] = len([word for word in tagged if word[1] in [\"VBP\", \"VBZ\",\"VBG\"]])\n",
    "        tense[\"past\"] = len([word for word in tagged if word[1] in [\"VBD\", \"VBN\"]]) \n",
    "        \n",
    "        tense_dict = determine_tense_input(text)\n",
    "        final_tense = max(tense_dict, key=tense_dict.get)\n",
    "        tense_col += [final_tense]\n",
    "        \n",
    "        # Subject Count\n",
    "        subject_count += [determine_subject_input(text)]\n",
    "        \n",
    "        # Time object count\n",
    "        time_object_count += [determine_time_input(text)]\n",
    "    \n",
    "    # add column of tense's to df\n",
    "    df = df.assign(tense = tense_col)\n",
    "    \n",
    "    # add column of subject counts to df\n",
    "    df = df.assign(subject_count = subject_count)\n",
    "    \n",
    "    # add column of time-related object count\n",
    "    df = df.assign(time_count = time_object_count)\n",
    "    \n",
    "    # FILTER\n",
    "    \n",
    "    if filter_strings == True:\n",
    "    \n",
    "        # filter for those rows that contain future tense strings\n",
    "        df = df[df[\"tense\"].str.contains(\"future\")]\n",
    "\n",
    "        # filter for those rows that contain at least one subject\n",
    "        df = df[df[\"subject_count\"] > 0]\n",
    "\n",
    "        # filter for those rows that contain at least one time object\n",
    "        df = df[df[\"time_count\"] > 0]\n",
    "    \n",
    "    \n",
    "    # return the updated df\n",
    "    return df"
   ]
  },
  {
   "cell_type": "code",
   "execution_count": 23,
   "metadata": {},
   "outputs": [
    {
     "data": {
      "text/html": [
       "<div>\n",
       "<style scoped>\n",
       "    .dataframe tbody tr th:only-of-type {\n",
       "        vertical-align: middle;\n",
       "    }\n",
       "\n",
       "    .dataframe tbody tr th {\n",
       "        vertical-align: top;\n",
       "    }\n",
       "\n",
       "    .dataframe thead th {\n",
       "        text-align: right;\n",
       "    }\n",
       "</style>\n",
       "<table border=\"1\" class=\"dataframe\">\n",
       "  <thead>\n",
       "    <tr style=\"text-align: right;\">\n",
       "      <th></th>\n",
       "      <th>text</th>\n",
       "      <th>tense</th>\n",
       "      <th>subject_count</th>\n",
       "      <th>time_count</th>\n",
       "    </tr>\n",
       "  </thead>\n",
       "  <tbody>\n",
       "    <tr>\n",
       "      <th>0</th>\n",
       "      <td>So, and given the complete scenario, this is w...</td>\n",
       "      <td>future</td>\n",
       "      <td>1</td>\n",
       "      <td>1</td>\n",
       "    </tr>\n",
       "    <tr>\n",
       "      <th>1</th>\n",
       "      <td>I will close the window.</td>\n",
       "      <td>future</td>\n",
       "      <td>1</td>\n",
       "      <td>0</td>\n",
       "    </tr>\n",
       "    <tr>\n",
       "      <th>2</th>\n",
       "      <td>We will attend the meeting in one hour.</td>\n",
       "      <td>future</td>\n",
       "      <td>1</td>\n",
       "      <td>1</td>\n",
       "    </tr>\n",
       "    <tr>\n",
       "      <th>3</th>\n",
       "      <td>I did the assignment yesterday.</td>\n",
       "      <td>past</td>\n",
       "      <td>1</td>\n",
       "      <td>0</td>\n",
       "    </tr>\n",
       "    <tr>\n",
       "      <th>4</th>\n",
       "      <td>I walked the dog in the morning.</td>\n",
       "      <td>past</td>\n",
       "      <td>1</td>\n",
       "      <td>0</td>\n",
       "    </tr>\n",
       "    <tr>\n",
       "      <th>5</th>\n",
       "      <td>My cat is stepping on the keyboard.</td>\n",
       "      <td>present</td>\n",
       "      <td>0</td>\n",
       "      <td>0</td>\n",
       "    </tr>\n",
       "    <tr>\n",
       "      <th>6</th>\n",
       "      <td>Could you repeat that?</td>\n",
       "      <td>present</td>\n",
       "      <td>2</td>\n",
       "      <td>1</td>\n",
       "    </tr>\n",
       "    <tr>\n",
       "      <th>7</th>\n",
       "      <td>Would you like to get food with me tomorrow?</td>\n",
       "      <td>future</td>\n",
       "      <td>2</td>\n",
       "      <td>0</td>\n",
       "    </tr>\n",
       "    <tr>\n",
       "      <th>8</th>\n",
       "      <td>can you submit the code.</td>\n",
       "      <td>future</td>\n",
       "      <td>1</td>\n",
       "      <td>0</td>\n",
       "    </tr>\n",
       "    <tr>\n",
       "      <th>9</th>\n",
       "      <td>can you submit the code by tomorrow.</td>\n",
       "      <td>future</td>\n",
       "      <td>1</td>\n",
       "      <td>0</td>\n",
       "    </tr>\n",
       "    <tr>\n",
       "      <th>10</th>\n",
       "      <td>I will inform tomorrow.</td>\n",
       "      <td>future</td>\n",
       "      <td>1</td>\n",
       "      <td>0</td>\n",
       "    </tr>\n",
       "    <tr>\n",
       "      <th>11</th>\n",
       "      <td>I will inform.</td>\n",
       "      <td>future</td>\n",
       "      <td>1</td>\n",
       "      <td>0</td>\n",
       "    </tr>\n",
       "    <tr>\n",
       "      <th>12</th>\n",
       "      <td>I want you to complete the task as soon as pos...</td>\n",
       "      <td>future</td>\n",
       "      <td>2</td>\n",
       "      <td>0</td>\n",
       "    </tr>\n",
       "    <tr>\n",
       "      <th>13</th>\n",
       "      <td>I want you to complete the task.</td>\n",
       "      <td>future</td>\n",
       "      <td>2</td>\n",
       "      <td>0</td>\n",
       "    </tr>\n",
       "    <tr>\n",
       "      <th>14</th>\n",
       "      <td>I want you to complete the task by Wednesday.</td>\n",
       "      <td>future</td>\n",
       "      <td>3</td>\n",
       "      <td>1</td>\n",
       "    </tr>\n",
       "    <tr>\n",
       "      <th>15</th>\n",
       "      <td>Hello, how are you doing?</td>\n",
       "      <td>present</td>\n",
       "      <td>2</td>\n",
       "      <td>1</td>\n",
       "    </tr>\n",
       "    <tr>\n",
       "      <th>16</th>\n",
       "      <td>I am fine, thank you!</td>\n",
       "      <td>present</td>\n",
       "      <td>2</td>\n",
       "      <td>0</td>\n",
       "    </tr>\n",
       "    <tr>\n",
       "      <th>17</th>\n",
       "      <td>No matter the industry your business is in, an...</td>\n",
       "      <td>present</td>\n",
       "      <td>1</td>\n",
       "      <td>0</td>\n",
       "    </tr>\n",
       "    <tr>\n",
       "      <th>18</th>\n",
       "      <td>You need to know what your customer is saying,...</td>\n",
       "      <td>present</td>\n",
       "      <td>1</td>\n",
       "      <td>0</td>\n",
       "    </tr>\n",
       "    <tr>\n",
       "      <th>19</th>\n",
       "      <td>You will need to know what your customer is sa...</td>\n",
       "      <td>future</td>\n",
       "      <td>1</td>\n",
       "      <td>0</td>\n",
       "    </tr>\n",
       "    <tr>\n",
       "      <th>20</th>\n",
       "      <td>Then, see if you can take the customer story a...</td>\n",
       "      <td>future</td>\n",
       "      <td>3</td>\n",
       "      <td>0</td>\n",
       "    </tr>\n",
       "    <tr>\n",
       "      <th>21</th>\n",
       "      <td>It’s not always smooth sailing, and sometimes ...</td>\n",
       "      <td>future</td>\n",
       "      <td>2</td>\n",
       "      <td>0</td>\n",
       "    </tr>\n",
       "    <tr>\n",
       "      <th>22</th>\n",
       "      <td>When new products are being announced, release...</td>\n",
       "      <td>present</td>\n",
       "      <td>3</td>\n",
       "      <td>0</td>\n",
       "    </tr>\n",
       "    <tr>\n",
       "      <th>23</th>\n",
       "      <td>When you announce new products next week, be s...</td>\n",
       "      <td>future</td>\n",
       "      <td>3</td>\n",
       "      <td>0</td>\n",
       "    </tr>\n",
       "    <tr>\n",
       "      <th>24</th>\n",
       "      <td>Be sure you submit the work at 10:30 PM.</td>\n",
       "      <td>future</td>\n",
       "      <td>2</td>\n",
       "      <td>2</td>\n",
       "    </tr>\n",
       "    <tr>\n",
       "      <th>25</th>\n",
       "      <td>Amir can you submit the work.</td>\n",
       "      <td>future</td>\n",
       "      <td>2</td>\n",
       "      <td>1</td>\n",
       "    </tr>\n",
       "    <tr>\n",
       "      <th>26</th>\n",
       "      <td>Amir can you submit the work tomorrow.</td>\n",
       "      <td>future</td>\n",
       "      <td>2</td>\n",
       "      <td>1</td>\n",
       "    </tr>\n",
       "  </tbody>\n",
       "</table>\n",
       "</div>"
      ],
      "text/plain": [
       "                                                 text    tense  subject_count  \\\n",
       "0   So, and given the complete scenario, this is w...   future              1   \n",
       "1                            I will close the window.   future              1   \n",
       "2             We will attend the meeting in one hour.   future              1   \n",
       "3                     I did the assignment yesterday.     past              1   \n",
       "4                    I walked the dog in the morning.     past              1   \n",
       "5                 My cat is stepping on the keyboard.  present              0   \n",
       "6                              Could you repeat that?  present              2   \n",
       "7        Would you like to get food with me tomorrow?   future              2   \n",
       "8                            can you submit the code.   future              1   \n",
       "9                can you submit the code by tomorrow.   future              1   \n",
       "10                            I will inform tomorrow.   future              1   \n",
       "11                                     I will inform.   future              1   \n",
       "12  I want you to complete the task as soon as pos...   future              2   \n",
       "13                   I want you to complete the task.   future              2   \n",
       "14      I want you to complete the task by Wednesday.   future              3   \n",
       "15                          Hello, how are you doing?  present              2   \n",
       "16                              I am fine, thank you!  present              2   \n",
       "17  No matter the industry your business is in, an...  present              1   \n",
       "18  You need to know what your customer is saying,...  present              1   \n",
       "19  You will need to know what your customer is sa...   future              1   \n",
       "20  Then, see if you can take the customer story a...   future              3   \n",
       "21  It’s not always smooth sailing, and sometimes ...   future              2   \n",
       "22  When new products are being announced, release...  present              3   \n",
       "23  When you announce new products next week, be s...   future              3   \n",
       "24           Be sure you submit the work at 10:30 PM.   future              2   \n",
       "25                      Amir can you submit the work.   future              2   \n",
       "26             Amir can you submit the work tomorrow.   future              2   \n",
       "\n",
       "    time_count  \n",
       "0            1  \n",
       "1            0  \n",
       "2            1  \n",
       "3            0  \n",
       "4            0  \n",
       "5            0  \n",
       "6            1  \n",
       "7            0  \n",
       "8            0  \n",
       "9            0  \n",
       "10           0  \n",
       "11           0  \n",
       "12           0  \n",
       "13           0  \n",
       "14           1  \n",
       "15           1  \n",
       "16           0  \n",
       "17           0  \n",
       "18           0  \n",
       "19           0  \n",
       "20           0  \n",
       "21           0  \n",
       "22           0  \n",
       "23           0  \n",
       "24           2  \n",
       "25           1  \n",
       "26           1  "
      ]
     },
     "execution_count": 23,
     "metadata": {},
     "output_type": "execute_result"
    }
   ],
   "source": [
    "# example\n",
    "df_example = get_action_strings(df = df_test, text_col_name = \"text\", filter_strings = False)\n",
    "df_example"
   ]
  },
  {
   "cell_type": "code",
   "execution_count": 24,
   "metadata": {},
   "outputs": [
    {
     "data": {
      "text/html": [
       "<div>\n",
       "<style scoped>\n",
       "    .dataframe tbody tr th:only-of-type {\n",
       "        vertical-align: middle;\n",
       "    }\n",
       "\n",
       "    .dataframe tbody tr th {\n",
       "        vertical-align: top;\n",
       "    }\n",
       "\n",
       "    .dataframe thead th {\n",
       "        text-align: right;\n",
       "    }\n",
       "</style>\n",
       "<table border=\"1\" class=\"dataframe\">\n",
       "  <thead>\n",
       "    <tr style=\"text-align: right;\">\n",
       "      <th></th>\n",
       "      <th>text</th>\n",
       "      <th>tense</th>\n",
       "      <th>subject_count</th>\n",
       "      <th>time_count</th>\n",
       "    </tr>\n",
       "  </thead>\n",
       "  <tbody>\n",
       "    <tr>\n",
       "      <th>0</th>\n",
       "      <td>So, and given the complete scenario, this is w...</td>\n",
       "      <td>future</td>\n",
       "      <td>1</td>\n",
       "      <td>1</td>\n",
       "    </tr>\n",
       "    <tr>\n",
       "      <th>2</th>\n",
       "      <td>We will attend the meeting in one hour.</td>\n",
       "      <td>future</td>\n",
       "      <td>1</td>\n",
       "      <td>1</td>\n",
       "    </tr>\n",
       "    <tr>\n",
       "      <th>14</th>\n",
       "      <td>I want you to complete the task by Wednesday.</td>\n",
       "      <td>future</td>\n",
       "      <td>3</td>\n",
       "      <td>1</td>\n",
       "    </tr>\n",
       "    <tr>\n",
       "      <th>24</th>\n",
       "      <td>Be sure you submit the work at 10:30 PM.</td>\n",
       "      <td>future</td>\n",
       "      <td>2</td>\n",
       "      <td>2</td>\n",
       "    </tr>\n",
       "    <tr>\n",
       "      <th>25</th>\n",
       "      <td>Amir can you submit the work.</td>\n",
       "      <td>future</td>\n",
       "      <td>2</td>\n",
       "      <td>1</td>\n",
       "    </tr>\n",
       "    <tr>\n",
       "      <th>26</th>\n",
       "      <td>Amir can you submit the work tomorrow.</td>\n",
       "      <td>future</td>\n",
       "      <td>2</td>\n",
       "      <td>1</td>\n",
       "    </tr>\n",
       "  </tbody>\n",
       "</table>\n",
       "</div>"
      ],
      "text/plain": [
       "                                                 text   tense  subject_count  \\\n",
       "0   So, and given the complete scenario, this is w...  future              1   \n",
       "2             We will attend the meeting in one hour.  future              1   \n",
       "14      I want you to complete the task by Wednesday.  future              3   \n",
       "24           Be sure you submit the work at 10:30 PM.  future              2   \n",
       "25                      Amir can you submit the work.  future              2   \n",
       "26             Amir can you submit the work tomorrow.  future              2   \n",
       "\n",
       "    time_count  \n",
       "0            1  \n",
       "2            1  \n",
       "14           1  \n",
       "24           2  \n",
       "25           1  \n",
       "26           1  "
      ]
     },
     "execution_count": 24,
     "metadata": {},
     "output_type": "execute_result"
    }
   ],
   "source": [
    "# example\n",
    "df_example = get_action_strings(df = df_test, text_col_name = \"text\", filter_strings = True)\n",
    "df_example"
   ]
  },
  {
   "cell_type": "code",
   "execution_count": 25,
   "metadata": {},
   "outputs": [
    {
     "name": "stdout",
     "output_type": "stream",
     "text": [
      "Collecting datefinder\n",
      "  Downloading datefinder-0.7.1-py2.py3-none-any.whl (10 kB)\n",
      "Requirement already satisfied: pytz in e:\\users\\amira\\anaconda\\lib\\site-packages (from datefinder) (2020.1)\n",
      "Requirement already satisfied: python-dateutil>=2.4.2 in e:\\users\\amira\\anaconda\\lib\\site-packages (from datefinder) (2.8.1)\n",
      "Requirement already satisfied: regex>=2017.02.08 in e:\\users\\amira\\anaconda\\lib\\site-packages (from datefinder) (2020.10.15)\n",
      "Requirement already satisfied: six>=1.5 in e:\\users\\amira\\anaconda\\lib\\site-packages (from python-dateutil>=2.4.2->datefinder) (1.15.0)\n",
      "Installing collected packages: datefinder\n",
      "Successfully installed datefinder-0.7.1\n"
     ]
    },
    {
     "name": "stderr",
     "output_type": "stream",
     "text": [
      "WARNING: Ignoring invalid distribution -tatsmodels (e:\\users\\amira\\anaconda\\lib\\site-packages)\n",
      "WARNING: Ignoring invalid distribution -ip (e:\\users\\amira\\anaconda\\lib\\site-packages)\n",
      "WARNING: Ignoring invalid distribution -tatsmodels (e:\\users\\amira\\anaconda\\lib\\site-packages)\n",
      "WARNING: Ignoring invalid distribution -ip (e:\\users\\amira\\anaconda\\lib\\site-packages)\n",
      "WARNING: Ignoring invalid distribution -tatsmodels (e:\\users\\amira\\anaconda\\lib\\site-packages)\n",
      "WARNING: Ignoring invalid distribution -ip (e:\\users\\amira\\anaconda\\lib\\site-packages)\n",
      "WARNING: Ignoring invalid distribution -tatsmodels (e:\\users\\amira\\anaconda\\lib\\site-packages)\n",
      "WARNING: Ignoring invalid distribution -ip (e:\\users\\amira\\anaconda\\lib\\site-packages)\n",
      "WARNING: Ignoring invalid distribution -tatsmodels (e:\\users\\amira\\anaconda\\lib\\site-packages)\n",
      "WARNING: Ignoring invalid distribution -ip (e:\\users\\amira\\anaconda\\lib\\site-packages)\n",
      "WARNING: Ignoring invalid distribution -tatsmodels (e:\\users\\amira\\anaconda\\lib\\site-packages)\n",
      "WARNING: Ignoring invalid distribution -ip (e:\\users\\amira\\anaconda\\lib\\site-packages)\n",
      "WARNING: Ignoring invalid distribution -tatsmodels (e:\\users\\amira\\anaconda\\lib\\site-packages)\n",
      "WARNING: Ignoring invalid distribution -ip (e:\\users\\amira\\anaconda\\lib\\site-packages)\n",
      "WARNING: You are using pip version 22.0.2; however, version 22.0.3 is available.\n",
      "You should consider upgrading via the 'E:\\Users\\amira\\anaconda\\python.exe -m pip install --upgrade pip' command.\n"
     ]
    }
   ],
   "source": [
    "# pip installing datetime\n",
    "!pip install datefinder"
   ]
  },
  {
   "cell_type": "code",
   "execution_count": 34,
   "metadata": {},
   "outputs": [
    {
     "name": "stdout",
     "output_type": "stream",
     "text": [
      "2022-02-20 00:00:00\n"
     ]
    }
   ],
   "source": [
    "import datefinder\n",
    "\n",
    "text = \"I will do the assignment Sunday.\"\n",
    "\n",
    "matches = datefinder.find_dates(text)\n",
    "\n",
    "for match in matches:\n",
    "    print(match)"
   ]
  },
  {
   "cell_type": "code",
   "execution_count": 48,
   "metadata": {},
   "outputs": [
    {
     "data": {
      "text/plain": [
       "[('Six', 'NN')]"
      ]
     },
     "execution_count": 48,
     "metadata": {},
     "output_type": "execute_result"
    }
   ],
   "source": [
    "text = \"Six\"\n",
    "\n",
    "tokenized = word_tokenize(text)\n",
    "tagged = pos_tag(tokenized)\n",
    "tagged"
   ]
  }
 ],
 "metadata": {
  "kernelspec": {
   "display_name": "Python 3 (ipykernel)",
   "language": "python",
   "name": "python3"
  },
  "language_info": {
   "codemirror_mode": {
    "name": "ipython",
    "version": 3
   },
   "file_extension": ".py",
   "mimetype": "text/x-python",
   "name": "python",
   "nbconvert_exporter": "python",
   "pygments_lexer": "ipython3",
   "version": "3.9.7"
  }
 },
 "nbformat": 4,
 "nbformat_minor": 4
}
